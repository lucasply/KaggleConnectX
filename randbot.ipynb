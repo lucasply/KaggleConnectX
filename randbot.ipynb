{
 "cells": [
  {
   "cell_type": "code",
   "execution_count": 1,
   "id": "7ccc9761",
   "metadata": {
    "_cell_guid": "b1076dfc-b9ad-4769-8c92-a6c4dae69d19",
    "_uuid": "8f2839f25d086af736a60e9eeb907d3b93b6e0e5",
    "execution": {
     "iopub.execute_input": "2024-10-21T02:27:48.608302Z",
     "iopub.status.busy": "2024-10-21T02:27:48.607472Z",
     "iopub.status.idle": "2024-10-21T02:27:55.266666Z",
     "shell.execute_reply": "2024-10-21T02:27:55.265479Z"
    },
    "papermill": {
     "duration": 6.665149,
     "end_time": "2024-10-21T02:27:55.269203",
     "exception": false,
     "start_time": "2024-10-21T02:27:48.604054",
     "status": "completed"
    },
    "tags": []
   },
   "outputs": [
    {
     "name": "stdout",
     "output_type": "stream",
     "text": [
      "No pygame installed, ignoring import\n",
      "<function my_agent at 0x7820c4c70b80> written to submission.py\n"
     ]
    }
   ],
   "source": [
    "import inspect\n",
    "import os\n",
    "from kaggle_environments import make, evaluate\n",
    "\n",
    "#Testing a rand Agent\n",
    "def act(observation, configuration):\n",
    "    board = observation.board\n",
    "    columns = configuration.columns\n",
    "    return [c for c in range(columns) if board[c] == 0][0]\n",
    "\n",
    "env = make(\"connectx\", debug=True)\n",
    "env.render()\n",
    "\n",
    "def my_agent(observation, configuration):\n",
    "    from random import choice\n",
    "    return choice([c for c in range(configuration.columns) \n",
    "                   if observation.board[c] == 0])\n",
    "#For submission\n",
    "def write_agent_to_file(function, file):\n",
    "    with open(file, \"a\" if os.path.exists(file) else \"w\") as f:\n",
    "        f.write(inspect.getsource(function))\n",
    "        print(function, \"written to\", file)\n",
    "\n",
    "write_agent_to_file(my_agent, \"submission.py\")\n",
    "\n"
   ]
  }
 ],
 "metadata": {
  "kaggle": {
   "accelerator": "none",
   "dataSources": [],
   "dockerImageVersionId": 30786,
   "isGpuEnabled": false,
   "isInternetEnabled": false,
   "language": "python",
   "sourceType": "notebook"
  },
  "kernelspec": {
   "display_name": "Python 3",
   "language": "python",
   "name": "python3"
  },
  "language_info": {
   "codemirror_mode": {
    "name": "ipython",
    "version": 3
   },
   "file_extension": ".py",
   "mimetype": "text/x-python",
   "name": "python",
   "nbconvert_exporter": "python",
   "pygments_lexer": "ipython3",
   "version": "3.10.14"
  },
  "papermill": {
   "default_parameters": {},
   "duration": 10.355157,
   "end_time": "2024-10-21T02:27:56.493071",
   "environment_variables": {},
   "exception": null,
   "input_path": "__notebook__.ipynb",
   "output_path": "__notebook__.ipynb",
   "parameters": {},
   "start_time": "2024-10-21T02:27:46.137914",
   "version": "2.6.0"
  }
 },
 "nbformat": 4,
 "nbformat_minor": 5
}
